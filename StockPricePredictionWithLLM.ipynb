{
  "cells": [
    {
      "cell_type": "markdown",
      "metadata": {
        "id": "view-in-github",
        "colab_type": "text"
      },
      "source": [
        "<a href=\"https://colab.research.google.com/github/panda-sas/ai-agent/blob/v1/StockPricePredictionWithLLM.ipynb\" target=\"_parent\"><img src=\"https://colab.research.google.com/assets/colab-badge.svg\" alt=\"Open In Colab\"/></a>"
      ]
    },
    {
      "cell_type": "markdown",
      "metadata": {
        "id": "3XRCzVcg8qq6"
      },
      "source": [
        "\n",
        "\n"
      ]
    },
    {
      "cell_type": "code",
      "execution_count": null,
      "metadata": {
        "id": "iMgjTlOjk05n",
        "colab": {
          "base_uri": "https://localhost:8080/"
        },
        "outputId": "2872a89d-8347-4b60-e355-a5cafd3da7bd"
      },
      "outputs": [
        {
          "output_type": "stream",
          "name": "stdout",
          "text": [
            "Requirement already satisfied: yfinance in /usr/local/lib/python3.11/dist-packages (0.2.65)\n",
            "Requirement already satisfied: pandas>=1.3.0 in /usr/local/lib/python3.11/dist-packages (from yfinance) (2.2.2)\n",
            "Requirement already satisfied: numpy>=1.16.5 in /usr/local/lib/python3.11/dist-packages (from yfinance) (2.0.2)\n",
            "Requirement already satisfied: requests>=2.31 in /usr/local/lib/python3.11/dist-packages (from yfinance) (2.32.3)\n",
            "Requirement already satisfied: multitasking>=0.0.7 in /usr/local/lib/python3.11/dist-packages (from yfinance) (0.0.11)\n",
            "Requirement already satisfied: platformdirs>=2.0.0 in /usr/local/lib/python3.11/dist-packages (from yfinance) (4.3.8)\n",
            "Requirement already satisfied: pytz>=2022.5 in /usr/local/lib/python3.11/dist-packages (from yfinance) (2025.2)\n",
            "Requirement already satisfied: frozendict>=2.3.4 in /usr/local/lib/python3.11/dist-packages (from yfinance) (2.4.6)\n",
            "Requirement already satisfied: peewee>=3.16.2 in /usr/local/lib/python3.11/dist-packages (from yfinance) (3.18.2)\n",
            "Requirement already satisfied: beautifulsoup4>=4.11.1 in /usr/local/lib/python3.11/dist-packages (from yfinance) (4.13.4)\n",
            "Requirement already satisfied: curl_cffi>=0.7 in /usr/local/lib/python3.11/dist-packages (from yfinance) (0.12.0)\n",
            "Requirement already satisfied: protobuf>=3.19.0 in /usr/local/lib/python3.11/dist-packages (from yfinance) (5.29.5)\n",
            "Requirement already satisfied: websockets>=13.0 in /usr/local/lib/python3.11/dist-packages (from yfinance) (15.0.1)\n",
            "Requirement already satisfied: soupsieve>1.2 in /usr/local/lib/python3.11/dist-packages (from beautifulsoup4>=4.11.1->yfinance) (2.7)\n",
            "Requirement already satisfied: typing-extensions>=4.0.0 in /usr/local/lib/python3.11/dist-packages (from beautifulsoup4>=4.11.1->yfinance) (4.14.1)\n",
            "Requirement already satisfied: cffi>=1.12.0 in /usr/local/lib/python3.11/dist-packages (from curl_cffi>=0.7->yfinance) (1.17.1)\n",
            "Requirement already satisfied: certifi>=2024.2.2 in /usr/local/lib/python3.11/dist-packages (from curl_cffi>=0.7->yfinance) (2025.7.14)\n",
            "Requirement already satisfied: python-dateutil>=2.8.2 in /usr/local/lib/python3.11/dist-packages (from pandas>=1.3.0->yfinance) (2.9.0.post0)\n",
            "Requirement already satisfied: tzdata>=2022.7 in /usr/local/lib/python3.11/dist-packages (from pandas>=1.3.0->yfinance) (2025.2)\n",
            "Requirement already satisfied: charset-normalizer<4,>=2 in /usr/local/lib/python3.11/dist-packages (from requests>=2.31->yfinance) (3.4.2)\n",
            "Requirement already satisfied: idna<4,>=2.5 in /usr/local/lib/python3.11/dist-packages (from requests>=2.31->yfinance) (3.10)\n",
            "Requirement already satisfied: urllib3<3,>=1.21.1 in /usr/local/lib/python3.11/dist-packages (from requests>=2.31->yfinance) (2.4.0)\n",
            "Requirement already satisfied: pycparser in /usr/local/lib/python3.11/dist-packages (from cffi>=1.12.0->curl_cffi>=0.7->yfinance) (2.22)\n",
            "Requirement already satisfied: six>=1.5 in /usr/local/lib/python3.11/dist-packages (from python-dateutil>=2.8.2->pandas>=1.3.0->yfinance) (1.17.0)\n"
          ]
        },
        {
          "output_type": "stream",
          "name": "stderr",
          "text": [
            "/tmp/ipython-input-1-2158138133.py:7: FutureWarning: YF.download() has changed argument auto_adjust default to True\n",
            "  data = yf.download(\"AAPL\", start=\"2020-01-01\", end=\"2023-01-01\")\n",
            "[*********************100%***********************]  1 of 1 completed"
          ]
        },
        {
          "output_type": "stream",
          "name": "stdout",
          "text": [
            "Price        Close        High         Low        Open        Volume\n",
            "Ticker        AAPL        AAPL        AAPL        AAPL          AAPL\n",
            "count   756.000000  756.000000  756.000000  756.000000  7.560000e+02\n",
            "mean    127.633102  129.181519  125.971433  127.555152  1.120920e+08\n",
            "std      30.421462   30.698899   30.139549   30.449562  5.602586e+07\n",
            "min      54.378586   55.379539   51.528419   55.277748  3.519590e+07\n",
            "25%     112.709520  114.204946  111.251818  112.889685  7.636470e+07\n",
            "50%     133.010773  134.143855  131.050642  132.832315  9.493580e+07\n",
            "75%     148.221531  149.388603  146.276885  147.588774  1.296327e+08\n",
            "max     178.645660  179.558442  175.809046  179.254175  4.265100e+08\n"
          ]
        },
        {
          "output_type": "stream",
          "name": "stderr",
          "text": [
            "\n"
          ]
        }
      ],
      "source": [
        "\n",
        "!pip install yfinance\n",
        "\n",
        "import yfinance as yf\n",
        "import pandas as pd\n",
        "\n",
        "\n",
        "data = yf.download(\"AAPL\", start=\"2020-01-01\", end=\"2023-01-01\")\n",
        "\n",
        "\n",
        "print(data.describe())\n"
      ]
    },
    {
      "cell_type": "code",
      "execution_count": null,
      "metadata": {
        "colab": {
          "base_uri": "https://localhost:8080/"
        },
        "id": "qKaqonJh7rMO",
        "outputId": "bb5bc314-20f9-4e23-829d-072604b76d4e"
      },
      "outputs": [
        {
          "output_type": "stream",
          "name": "stdout",
          "text": [
            "Requirement already satisfied: yfinance in /usr/local/lib/python3.11/dist-packages (0.2.65)\n",
            "Requirement already satisfied: pandas>=1.3.0 in /usr/local/lib/python3.11/dist-packages (from yfinance) (2.2.2)\n",
            "Requirement already satisfied: numpy>=1.16.5 in /usr/local/lib/python3.11/dist-packages (from yfinance) (2.0.2)\n",
            "Requirement already satisfied: requests>=2.31 in /usr/local/lib/python3.11/dist-packages (from yfinance) (2.32.3)\n",
            "Requirement already satisfied: multitasking>=0.0.7 in /usr/local/lib/python3.11/dist-packages (from yfinance) (0.0.11)\n",
            "Requirement already satisfied: platformdirs>=2.0.0 in /usr/local/lib/python3.11/dist-packages (from yfinance) (4.3.8)\n",
            "Requirement already satisfied: pytz>=2022.5 in /usr/local/lib/python3.11/dist-packages (from yfinance) (2025.2)\n",
            "Requirement already satisfied: frozendict>=2.3.4 in /usr/local/lib/python3.11/dist-packages (from yfinance) (2.4.6)\n",
            "Requirement already satisfied: peewee>=3.16.2 in /usr/local/lib/python3.11/dist-packages (from yfinance) (3.18.2)\n",
            "Requirement already satisfied: beautifulsoup4>=4.11.1 in /usr/local/lib/python3.11/dist-packages (from yfinance) (4.13.4)\n",
            "Requirement already satisfied: curl_cffi>=0.7 in /usr/local/lib/python3.11/dist-packages (from yfinance) (0.12.0)\n",
            "Requirement already satisfied: protobuf>=3.19.0 in /usr/local/lib/python3.11/dist-packages (from yfinance) (5.29.5)\n",
            "Requirement already satisfied: websockets>=13.0 in /usr/local/lib/python3.11/dist-packages (from yfinance) (15.0.1)\n",
            "Requirement already satisfied: soupsieve>1.2 in /usr/local/lib/python3.11/dist-packages (from beautifulsoup4>=4.11.1->yfinance) (2.7)\n",
            "Requirement already satisfied: typing-extensions>=4.0.0 in /usr/local/lib/python3.11/dist-packages (from beautifulsoup4>=4.11.1->yfinance) (4.14.1)\n",
            "Requirement already satisfied: cffi>=1.12.0 in /usr/local/lib/python3.11/dist-packages (from curl_cffi>=0.7->yfinance) (1.17.1)\n",
            "Requirement already satisfied: certifi>=2024.2.2 in /usr/local/lib/python3.11/dist-packages (from curl_cffi>=0.7->yfinance) (2025.7.14)\n",
            "Requirement already satisfied: python-dateutil>=2.8.2 in /usr/local/lib/python3.11/dist-packages (from pandas>=1.3.0->yfinance) (2.9.0.post0)\n",
            "Requirement already satisfied: tzdata>=2022.7 in /usr/local/lib/python3.11/dist-packages (from pandas>=1.3.0->yfinance) (2025.2)\n",
            "Requirement already satisfied: charset-normalizer<4,>=2 in /usr/local/lib/python3.11/dist-packages (from requests>=2.31->yfinance) (3.4.2)\n",
            "Requirement already satisfied: idna<4,>=2.5 in /usr/local/lib/python3.11/dist-packages (from requests>=2.31->yfinance) (3.10)\n",
            "Requirement already satisfied: urllib3<3,>=1.21.1 in /usr/local/lib/python3.11/dist-packages (from requests>=2.31->yfinance) (2.4.0)\n",
            "Requirement already satisfied: pycparser in /usr/local/lib/python3.11/dist-packages (from cffi>=1.12.0->curl_cffi>=0.7->yfinance) (2.22)\n",
            "Requirement already satisfied: six>=1.5 in /usr/local/lib/python3.11/dist-packages (from python-dateutil>=2.8.2->pandas>=1.3.0->yfinance) (1.17.0)\n"
          ]
        },
        {
          "output_type": "stream",
          "name": "stderr",
          "text": [
            "/tmp/ipython-input-2-1074525286.py:6: FutureWarning: YF.download() has changed argument auto_adjust default to True\n",
            "  data = yf.download(\"AAPL\", start=\"2020-01-01\", end=\"2023-01-01\")\n",
            "\r[*********************100%***********************]  1 of 1 completed"
          ]
        },
        {
          "output_type": "stream",
          "name": "stdout",
          "text": [
            "Price        Close        High         Low        Open        Volume\n",
            "Ticker        AAPL        AAPL        AAPL        AAPL          AAPL\n",
            "count   756.000000  756.000000  756.000000  756.000000  7.560000e+02\n",
            "mean    127.633102  129.181519  125.971433  127.555152  1.120920e+08\n",
            "std      30.421462   30.698899   30.139549   30.449562  5.602586e+07\n",
            "min      54.378586   55.379539   51.528419   55.277748  3.519590e+07\n",
            "25%     112.709520  114.204946  111.251818  112.889685  7.636470e+07\n",
            "50%     133.010773  134.143855  131.050642  132.832315  9.493580e+07\n",
            "75%     148.221531  149.388603  146.276885  147.588774  1.296327e+08\n",
            "max     178.645660  179.558442  175.809046  179.254175  4.265100e+08\n"
          ]
        },
        {
          "output_type": "stream",
          "name": "stderr",
          "text": [
            "\n"
          ]
        }
      ],
      "source": [
        "!pip install yfinance\n",
        "\n",
        "import yfinance as yf\n",
        "import pandas as pd\n",
        "\n",
        "data = yf.download(\"AAPL\", start=\"2020-01-01\", end=\"2023-01-01\")\n",
        "\n",
        "\n",
        "print(data.describe())"
      ]
    },
    {
      "cell_type": "code",
      "execution_count": null,
      "metadata": {
        "colab": {
          "base_uri": "https://localhost:8080/"
        },
        "id": "tEuXvSCP6QWj",
        "outputId": "bd9e49c3-741d-40a2-9bc3-06573caf236b"
      },
      "outputs": [
        {
          "output_type": "stream",
          "name": "stderr",
          "text": [
            "/tmp/ipython-input-12-134602601.py:6: FutureWarning: YF.download() has changed argument auto_adjust default to True\n",
            "  data = yf.download(\"AAPL\", start=\"2020-01-01\", end=\"2023-01-01\")\n",
            "\r[*********************100%***********************]  1 of 1 completed"
          ]
        },
        {
          "output_type": "stream",
          "name": "stdout",
          "text": [
            "Price       Close        High         Low        Open        Volume\n",
            "count  756.000000  756.000000  756.000000  756.000000  7.560000e+02\n",
            "mean   127.633102  129.181519  125.971433  127.555152  1.120920e+08\n",
            "std     30.421462   30.698899   30.139549   30.449562  5.602586e+07\n",
            "min     54.378586   55.379539   51.528419   55.277748  3.519590e+07\n",
            "25%    112.709520  114.204946  111.251818  112.889685  7.636470e+07\n",
            "50%    133.010773  134.143855  131.050642  132.832315  9.493580e+07\n",
            "75%    148.221531  149.388603  146.276885  147.588774  1.296327e+08\n",
            "max    178.645660  179.558442  175.809046  179.254175  4.265100e+08\n",
            "\n",
            "Highest Closing Price: $178.65 on January 03, 2022\n",
            "Lowest Closing Price: $54.38 on March 23, 2020\n",
            "Average Closing Price: $127.63\n",
            "Total Trading Days: 756\n"
          ]
        },
        {
          "output_type": "stream",
          "name": "stderr",
          "text": [
            "\n"
          ]
        }
      ],
      "source": [
        "#Data Exploration\n",
        "import yfinance as yf\n",
        "import pandas as pd\n",
        "\n",
        "# Load data\n",
        "data = yf.download(\"AAPL\", start=\"2020-01-01\", end=\"2023-01-01\")\n",
        "\n",
        "\n",
        "data.index = pd.to_datetime(data.index)\n",
        "\n",
        "\n",
        "\n",
        "if isinstance(data.columns, pd.MultiIndex):\n",
        "    data.columns = data.columns.get_level_values(0)\n",
        "\n",
        "\n",
        "highest_close = data['Close'].max()\n",
        "lowest_close = data['Close'].min()\n",
        "average_close = data['Close'].mean()\n",
        "highest_date = data['Close'].idxmax().strftime('%B %d, %Y')\n",
        "lowest_date = data['Close'].idxmin().strftime('%B %d, %Y')\n",
        "total_days = len(data)\n",
        "\n",
        "\n",
        "print(data.describe())\n",
        "print(f\"\\nHighest Closing Price: ${highest_close:.2f} on {highest_date}\")\n",
        "print(f\"Lowest Closing Price: ${lowest_close:.2f} on {lowest_date}\")\n",
        "print(f\"Average Closing Price: ${average_close:.2f}\")\n",
        "print(f\"Total Trading Days: {total_days}\")\n"
      ]
    },
    {
      "cell_type": "code",
      "execution_count": null,
      "metadata": {
        "id": "wfUtMi-sm0uh",
        "colab": {
          "base_uri": "https://localhost:8080/",
          "height": 238
        },
        "outputId": "6bd0ac52-9b32-4b09-e7c8-409e23e4a7eb"
      },
      "outputs": [
        {
          "output_type": "execute_result",
          "data": {
            "text/plain": [
              "Price            Close       SMA_5      SMA_10     SMA_50     RSI_14  \\\n",
              "Date                                                                   \n",
              "2020-08-03  105.894775   97.144698   94.701158  87.696379  76.448773   \n",
              "2020-08-04  106.601967  100.335516   95.932284  88.278503  77.095196   \n",
              "2020-08-05  106.988373  103.256099   97.175562  88.878853  77.459247   \n",
              "2020-08-06  110.721085  106.699652   99.222496  89.547150  80.657507   \n",
              "2020-08-07  108.203773  107.681995  101.040056  90.164421  73.122345   \n",
              "\n",
              "Price         BB_upper   BB_lower   BB_width    ATR_14  \n",
              "Date                                                    \n",
              "2020-08-03  101.778849  86.401821  15.377028  3.050695  \n",
              "2020-08-04  104.131670  85.652185  18.479485  2.999602  \n",
              "2020-08-05  106.171993  85.042751  21.129242  2.889148  \n",
              "2020-08-06  108.854952  84.124095  24.730857  3.003216  \n",
              "2020-08-07  110.504127  83.971211  26.532916  3.025547  "
            ],
            "text/html": [
              "\n",
              "  <div id=\"df-c330c0ee-491a-4223-9e57-103386db488c\" class=\"colab-df-container\">\n",
              "    <div>\n",
              "<style scoped>\n",
              "    .dataframe tbody tr th:only-of-type {\n",
              "        vertical-align: middle;\n",
              "    }\n",
              "\n",
              "    .dataframe tbody tr th {\n",
              "        vertical-align: top;\n",
              "    }\n",
              "\n",
              "    .dataframe thead th {\n",
              "        text-align: right;\n",
              "    }\n",
              "</style>\n",
              "<table border=\"1\" class=\"dataframe\">\n",
              "  <thead>\n",
              "    <tr style=\"text-align: right;\">\n",
              "      <th>Price</th>\n",
              "      <th>Close</th>\n",
              "      <th>SMA_5</th>\n",
              "      <th>SMA_10</th>\n",
              "      <th>SMA_50</th>\n",
              "      <th>RSI_14</th>\n",
              "      <th>BB_upper</th>\n",
              "      <th>BB_lower</th>\n",
              "      <th>BB_width</th>\n",
              "      <th>ATR_14</th>\n",
              "    </tr>\n",
              "    <tr>\n",
              "      <th>Date</th>\n",
              "      <th></th>\n",
              "      <th></th>\n",
              "      <th></th>\n",
              "      <th></th>\n",
              "      <th></th>\n",
              "      <th></th>\n",
              "      <th></th>\n",
              "      <th></th>\n",
              "      <th></th>\n",
              "    </tr>\n",
              "  </thead>\n",
              "  <tbody>\n",
              "    <tr>\n",
              "      <th>2020-08-03</th>\n",
              "      <td>105.894775</td>\n",
              "      <td>97.144698</td>\n",
              "      <td>94.701158</td>\n",
              "      <td>87.696379</td>\n",
              "      <td>76.448773</td>\n",
              "      <td>101.778849</td>\n",
              "      <td>86.401821</td>\n",
              "      <td>15.377028</td>\n",
              "      <td>3.050695</td>\n",
              "    </tr>\n",
              "    <tr>\n",
              "      <th>2020-08-04</th>\n",
              "      <td>106.601967</td>\n",
              "      <td>100.335516</td>\n",
              "      <td>95.932284</td>\n",
              "      <td>88.278503</td>\n",
              "      <td>77.095196</td>\n",
              "      <td>104.131670</td>\n",
              "      <td>85.652185</td>\n",
              "      <td>18.479485</td>\n",
              "      <td>2.999602</td>\n",
              "    </tr>\n",
              "    <tr>\n",
              "      <th>2020-08-05</th>\n",
              "      <td>106.988373</td>\n",
              "      <td>103.256099</td>\n",
              "      <td>97.175562</td>\n",
              "      <td>88.878853</td>\n",
              "      <td>77.459247</td>\n",
              "      <td>106.171993</td>\n",
              "      <td>85.042751</td>\n",
              "      <td>21.129242</td>\n",
              "      <td>2.889148</td>\n",
              "    </tr>\n",
              "    <tr>\n",
              "      <th>2020-08-06</th>\n",
              "      <td>110.721085</td>\n",
              "      <td>106.699652</td>\n",
              "      <td>99.222496</td>\n",
              "      <td>89.547150</td>\n",
              "      <td>80.657507</td>\n",
              "      <td>108.854952</td>\n",
              "      <td>84.124095</td>\n",
              "      <td>24.730857</td>\n",
              "      <td>3.003216</td>\n",
              "    </tr>\n",
              "    <tr>\n",
              "      <th>2020-08-07</th>\n",
              "      <td>108.203773</td>\n",
              "      <td>107.681995</td>\n",
              "      <td>101.040056</td>\n",
              "      <td>90.164421</td>\n",
              "      <td>73.122345</td>\n",
              "      <td>110.504127</td>\n",
              "      <td>83.971211</td>\n",
              "      <td>26.532916</td>\n",
              "      <td>3.025547</td>\n",
              "    </tr>\n",
              "  </tbody>\n",
              "</table>\n",
              "</div>\n",
              "    <div class=\"colab-df-buttons\">\n",
              "\n",
              "  <div class=\"colab-df-container\">\n",
              "    <button class=\"colab-df-convert\" onclick=\"convertToInteractive('df-c330c0ee-491a-4223-9e57-103386db488c')\"\n",
              "            title=\"Convert this dataframe to an interactive table.\"\n",
              "            style=\"display:none;\">\n",
              "\n",
              "  <svg xmlns=\"http://www.w3.org/2000/svg\" height=\"24px\" viewBox=\"0 -960 960 960\">\n",
              "    <path d=\"M120-120v-720h720v720H120Zm60-500h600v-160H180v160Zm220 220h160v-160H400v160Zm0 220h160v-160H400v160ZM180-400h160v-160H180v160Zm440 0h160v-160H620v160ZM180-180h160v-160H180v160Zm440 0h160v-160H620v160Z\"/>\n",
              "  </svg>\n",
              "    </button>\n",
              "\n",
              "  <style>\n",
              "    .colab-df-container {\n",
              "      display:flex;\n",
              "      gap: 12px;\n",
              "    }\n",
              "\n",
              "    .colab-df-convert {\n",
              "      background-color: #E8F0FE;\n",
              "      border: none;\n",
              "      border-radius: 50%;\n",
              "      cursor: pointer;\n",
              "      display: none;\n",
              "      fill: #1967D2;\n",
              "      height: 32px;\n",
              "      padding: 0 0 0 0;\n",
              "      width: 32px;\n",
              "    }\n",
              "\n",
              "    .colab-df-convert:hover {\n",
              "      background-color: #E2EBFA;\n",
              "      box-shadow: 0px 1px 2px rgba(60, 64, 67, 0.3), 0px 1px 3px 1px rgba(60, 64, 67, 0.15);\n",
              "      fill: #174EA6;\n",
              "    }\n",
              "\n",
              "    .colab-df-buttons div {\n",
              "      margin-bottom: 4px;\n",
              "    }\n",
              "\n",
              "    [theme=dark] .colab-df-convert {\n",
              "      background-color: #3B4455;\n",
              "      fill: #D2E3FC;\n",
              "    }\n",
              "\n",
              "    [theme=dark] .colab-df-convert:hover {\n",
              "      background-color: #434B5C;\n",
              "      box-shadow: 0px 1px 3px 1px rgba(0, 0, 0, 0.15);\n",
              "      filter: drop-shadow(0px 1px 2px rgba(0, 0, 0, 0.3));\n",
              "      fill: #FFFFFF;\n",
              "    }\n",
              "  </style>\n",
              "\n",
              "    <script>\n",
              "      const buttonEl =\n",
              "        document.querySelector('#df-c330c0ee-491a-4223-9e57-103386db488c button.colab-df-convert');\n",
              "      buttonEl.style.display =\n",
              "        google.colab.kernel.accessAllowed ? 'block' : 'none';\n",
              "\n",
              "      async function convertToInteractive(key) {\n",
              "        const element = document.querySelector('#df-c330c0ee-491a-4223-9e57-103386db488c');\n",
              "        const dataTable =\n",
              "          await google.colab.kernel.invokeFunction('convertToInteractive',\n",
              "                                                    [key], {});\n",
              "        if (!dataTable) return;\n",
              "\n",
              "        const docLinkHtml = 'Like what you see? Visit the ' +\n",
              "          '<a target=\"_blank\" href=https://colab.research.google.com/notebooks/data_table.ipynb>data table notebook</a>'\n",
              "          + ' to learn more about interactive tables.';\n",
              "        element.innerHTML = '';\n",
              "        dataTable['output_type'] = 'display_data';\n",
              "        await google.colab.output.renderOutput(dataTable, element);\n",
              "        const docLink = document.createElement('div');\n",
              "        docLink.innerHTML = docLinkHtml;\n",
              "        element.appendChild(docLink);\n",
              "      }\n",
              "    </script>\n",
              "  </div>\n",
              "\n",
              "\n",
              "    <div id=\"df-6e0e421f-0add-4075-95a3-c87fdfea4696\">\n",
              "      <button class=\"colab-df-quickchart\" onclick=\"quickchart('df-6e0e421f-0add-4075-95a3-c87fdfea4696')\"\n",
              "                title=\"Suggest charts\"\n",
              "                style=\"display:none;\">\n",
              "\n",
              "<svg xmlns=\"http://www.w3.org/2000/svg\" height=\"24px\"viewBox=\"0 0 24 24\"\n",
              "     width=\"24px\">\n",
              "    <g>\n",
              "        <path d=\"M19 3H5c-1.1 0-2 .9-2 2v14c0 1.1.9 2 2 2h14c1.1 0 2-.9 2-2V5c0-1.1-.9-2-2-2zM9 17H7v-7h2v7zm4 0h-2V7h2v10zm4 0h-2v-4h2v4z\"/>\n",
              "    </g>\n",
              "</svg>\n",
              "      </button>\n",
              "\n",
              "<style>\n",
              "  .colab-df-quickchart {\n",
              "      --bg-color: #E8F0FE;\n",
              "      --fill-color: #1967D2;\n",
              "      --hover-bg-color: #E2EBFA;\n",
              "      --hover-fill-color: #174EA6;\n",
              "      --disabled-fill-color: #AAA;\n",
              "      --disabled-bg-color: #DDD;\n",
              "  }\n",
              "\n",
              "  [theme=dark] .colab-df-quickchart {\n",
              "      --bg-color: #3B4455;\n",
              "      --fill-color: #D2E3FC;\n",
              "      --hover-bg-color: #434B5C;\n",
              "      --hover-fill-color: #FFFFFF;\n",
              "      --disabled-bg-color: #3B4455;\n",
              "      --disabled-fill-color: #666;\n",
              "  }\n",
              "\n",
              "  .colab-df-quickchart {\n",
              "    background-color: var(--bg-color);\n",
              "    border: none;\n",
              "    border-radius: 50%;\n",
              "    cursor: pointer;\n",
              "    display: none;\n",
              "    fill: var(--fill-color);\n",
              "    height: 32px;\n",
              "    padding: 0;\n",
              "    width: 32px;\n",
              "  }\n",
              "\n",
              "  .colab-df-quickchart:hover {\n",
              "    background-color: var(--hover-bg-color);\n",
              "    box-shadow: 0 1px 2px rgba(60, 64, 67, 0.3), 0 1px 3px 1px rgba(60, 64, 67, 0.15);\n",
              "    fill: var(--button-hover-fill-color);\n",
              "  }\n",
              "\n",
              "  .colab-df-quickchart-complete:disabled,\n",
              "  .colab-df-quickchart-complete:disabled:hover {\n",
              "    background-color: var(--disabled-bg-color);\n",
              "    fill: var(--disabled-fill-color);\n",
              "    box-shadow: none;\n",
              "  }\n",
              "\n",
              "  .colab-df-spinner {\n",
              "    border: 2px solid var(--fill-color);\n",
              "    border-color: transparent;\n",
              "    border-bottom-color: var(--fill-color);\n",
              "    animation:\n",
              "      spin 1s steps(1) infinite;\n",
              "  }\n",
              "\n",
              "  @keyframes spin {\n",
              "    0% {\n",
              "      border-color: transparent;\n",
              "      border-bottom-color: var(--fill-color);\n",
              "      border-left-color: var(--fill-color);\n",
              "    }\n",
              "    20% {\n",
              "      border-color: transparent;\n",
              "      border-left-color: var(--fill-color);\n",
              "      border-top-color: var(--fill-color);\n",
              "    }\n",
              "    30% {\n",
              "      border-color: transparent;\n",
              "      border-left-color: var(--fill-color);\n",
              "      border-top-color: var(--fill-color);\n",
              "      border-right-color: var(--fill-color);\n",
              "    }\n",
              "    40% {\n",
              "      border-color: transparent;\n",
              "      border-right-color: var(--fill-color);\n",
              "      border-top-color: var(--fill-color);\n",
              "    }\n",
              "    60% {\n",
              "      border-color: transparent;\n",
              "      border-right-color: var(--fill-color);\n",
              "    }\n",
              "    80% {\n",
              "      border-color: transparent;\n",
              "      border-right-color: var(--fill-color);\n",
              "      border-bottom-color: var(--fill-color);\n",
              "    }\n",
              "    90% {\n",
              "      border-color: transparent;\n",
              "      border-bottom-color: var(--fill-color);\n",
              "    }\n",
              "  }\n",
              "</style>\n",
              "\n",
              "      <script>\n",
              "        async function quickchart(key) {\n",
              "          const quickchartButtonEl =\n",
              "            document.querySelector('#' + key + ' button');\n",
              "          quickchartButtonEl.disabled = true;  // To prevent multiple clicks.\n",
              "          quickchartButtonEl.classList.add('colab-df-spinner');\n",
              "          try {\n",
              "            const charts = await google.colab.kernel.invokeFunction(\n",
              "                'suggestCharts', [key], {});\n",
              "          } catch (error) {\n",
              "            console.error('Error during call to suggestCharts:', error);\n",
              "          }\n",
              "          quickchartButtonEl.classList.remove('colab-df-spinner');\n",
              "          quickchartButtonEl.classList.add('colab-df-quickchart-complete');\n",
              "        }\n",
              "        (() => {\n",
              "          let quickchartButtonEl =\n",
              "            document.querySelector('#df-6e0e421f-0add-4075-95a3-c87fdfea4696 button');\n",
              "          quickchartButtonEl.style.display =\n",
              "            google.colab.kernel.accessAllowed ? 'block' : 'none';\n",
              "        })();\n",
              "      </script>\n",
              "    </div>\n",
              "\n",
              "    </div>\n",
              "  </div>\n"
            ],
            "application/vnd.google.colaboratory.intrinsic+json": {
              "type": "dataframe",
              "summary": "{\n  \"name\": \"data[['Close', 'SMA_5', 'SMA_10', 'SMA_50', 'RSI_14', 'BB_upper', 'BB_lower', 'BB_width', 'ATR_14']]\",\n  \"rows\": 5,\n  \"fields\": [\n    {\n      \"column\": \"Date\",\n      \"properties\": {\n        \"dtype\": \"date\",\n        \"min\": \"2020-08-03 00:00:00\",\n        \"max\": \"2020-08-07 00:00:00\",\n        \"num_unique_values\": 5,\n        \"samples\": [\n          \"2020-08-04 00:00:00\",\n          \"2020-08-07 00:00:00\",\n          \"2020-08-05 00:00:00\"\n        ],\n        \"semantic_type\": \"\",\n        \"description\": \"\"\n      }\n    },\n    {\n      \"column\": \"Close\",\n      \"properties\": {\n        \"dtype\": \"number\",\n        \"std\": 1.8940726516351172,\n        \"min\": 105.894775390625,\n        \"max\": 110.72108459472656,\n        \"num_unique_values\": 5,\n        \"samples\": [\n          106.60196685791016,\n          108.20377349853516,\n          106.98837280273438\n        ],\n        \"semantic_type\": \"\",\n        \"description\": \"\"\n      }\n    },\n    {\n      \"column\": \"SMA_5\",\n      \"properties\": {\n        \"dtype\": \"number\",\n        \"std\": 4.389058633552438,\n        \"min\": 97.14469757080079,\n        \"max\": 107.68199462890625,\n        \"num_unique_values\": 5,\n        \"samples\": [\n          100.33551635742188,\n          107.68199462890625,\n          103.25609893798828\n        ],\n        \"semantic_type\": \"\",\n        \"description\": \"\"\n      }\n    },\n    {\n      \"column\": \"SMA_10\",\n      \"properties\": {\n        \"dtype\": \"number\",\n        \"std\": 2.5411691415305477,\n        \"min\": 94.70115814208984,\n        \"max\": 101.04005584716796,\n        \"num_unique_values\": 5,\n        \"samples\": [\n          95.93228378295899,\n          101.04005584716796,\n          97.17556228637696\n        ],\n        \"semantic_type\": \"\",\n        \"description\": \"\"\n      }\n    },\n    {\n      \"column\": \"SMA_50\",\n      \"properties\": {\n        \"dtype\": \"number\",\n        \"std\": 0.9813408027323519,\n        \"min\": 87.69637939453125,\n        \"max\": 90.16442092895508,\n        \"num_unique_values\": 5,\n        \"samples\": [\n          88.27850280761719,\n          90.16442092895508,\n          88.87885314941406\n        ],\n        \"semantic_type\": \"\",\n        \"description\": \"\"\n      }\n    },\n    {\n      \"column\": \"RSI_14\",\n      \"properties\": {\n        \"dtype\": \"number\",\n        \"std\": 2.689236479670357,\n        \"min\": 73.1223452221285,\n        \"max\": 80.65750682256302,\n        \"num_unique_values\": 5,\n        \"samples\": [\n          77.09519553481334,\n          73.1223452221285,\n          77.459246813851\n        ],\n        \"semantic_type\": \"\",\n        \"description\": \"\"\n      }\n    },\n    {\n      \"column\": \"BB_upper\",\n      \"properties\": {\n        \"dtype\": \"number\",\n        \"std\": 3.5128559167049818,\n        \"min\": 101.77884922242549,\n        \"max\": 110.50412709571167,\n        \"num_unique_values\": 5,\n        \"samples\": [\n          104.13167022016073,\n          110.50412709571167,\n          106.1719930410969\n        ],\n        \"semantic_type\": \"\",\n        \"description\": \"\"\n      }\n    },\n    {\n      \"column\": \"BB_lower\",\n      \"properties\": {\n        \"dtype\": \"number\",\n        \"std\": 1.0259768032592562,\n        \"min\": 83.97121088646607,\n        \"max\": 86.40182094359014,\n        \"num_unique_values\": 5,\n        \"samples\": [\n          85.6521852180717,\n          83.97121088646607,\n          85.04275076383473\n        ],\n        \"semantic_type\": \"\",\n        \"description\": \"\"\n      }\n    },\n    {\n      \"column\": \"BB_width\",\n      \"properties\": {\n        \"dtype\": \"number\",\n        \"std\": 4.533423111825053,\n        \"min\": 15.377028278835354,\n        \"max\": 26.5329162092456,\n        \"num_unique_values\": 5,\n        \"samples\": [\n          18.479485002089035,\n          26.5329162092456,\n          21.129242277262165\n        ],\n        \"semantic_type\": \"\",\n        \"description\": \"\"\n      }\n    },\n    {\n      \"column\": \"ATR_14\",\n      \"properties\": {\n        \"dtype\": \"number\",\n        \"std\": 0.06188506801075533,\n        \"min\": 2.889148304477402,\n        \"max\": 3.0506947934916617,\n        \"num_unique_values\": 5,\n        \"samples\": [\n          2.9996023116021044,\n          3.025546635413081,\n          2.889148304477402\n        ],\n        \"semantic_type\": \"\",\n        \"description\": \"\"\n      }\n    }\n  ]\n}"
            }
          },
          "metadata": {},
          "execution_count": 11
        }
      ],
      "source": [
        "#Feature Engineering\n",
        "\n",
        "import ta\n",
        "\n",
        "# --- Moving Averages ---\n",
        "data['SMA_5'] = data['Close'].rolling(window=5).mean()\n",
        "data['SMA_10'] = data['Close'].rolling(window=10).mean()\n",
        "data['SMA_50'] = data['Close'].rolling(window=50).mean()\n",
        "\n",
        "# --- RSI (Relative Strength Index) ---\n",
        "rsi = ta.momentum.RSIIndicator(close=data['Close'], window=14)\n",
        "data['RSI_14'] = rsi.rsi()\n",
        "\n",
        "# --- Bollinger Bands ---\n",
        "bb = ta.volatility.BollingerBands(close=data['Close'], window=20, window_dev=2)\n",
        "data['BB_upper'] = bb.bollinger_hband()\n",
        "data['BB_lower'] = bb.bollinger_lband()\n",
        "data['BB_width'] = data['BB_upper'] - data['BB_lower']  # Optional feature\n",
        "\n",
        "# --- ATR (Average True Range) ---\n",
        "atr = ta.volatility.AverageTrueRange(high=data['High'], low=data['Low'], close=data['Close'], window=14)\n",
        "data['ATR_14'] = atr.average_true_range()\n",
        "\n",
        "# --- Drop any rows with NaN values due to rolling windows ---\n",
        "data = data.dropna()\n",
        "\n",
        "\n",
        "data[['Close', 'SMA_5', 'SMA_10', 'SMA_50', 'RSI_14', 'BB_upper', 'BB_lower', 'BB_width', 'ATR_14']].head()"
      ]
    },
    {
      "cell_type": "code",
      "source": [
        "print(data.columns)\n"
      ],
      "metadata": {
        "colab": {
          "base_uri": "https://localhost:8080/"
        },
        "id": "cg2RewuXwmCx",
        "outputId": "05d52453-dfff-443d-85d5-593e07d0bf35"
      },
      "execution_count": null,
      "outputs": [
        {
          "output_type": "stream",
          "name": "stdout",
          "text": [
            "MultiIndex([(       'Close', 'AAPL'),\n",
            "            (        'High', 'AAPL'),\n",
            "            (         'Low', 'AAPL'),\n",
            "            (        'Open', 'AAPL'),\n",
            "            (      'Volume', 'AAPL'),\n",
            "            ('Target_Close',     '')],\n",
            "           names=['Price', 'Ticker'])\n"
          ]
        }
      ]
    },
    {
      "cell_type": "markdown",
      "source": [],
      "metadata": {
        "id": "rLj5uV5Fwl67"
      }
    },
    {
      "cell_type": "code",
      "source": [
        "import yfinance as yf\n",
        "\n",
        "\n",
        "data = yf.download(\"AAPL\", start=\"2020-01-01\", end=\"2023-01-01\")\n",
        "\n",
        "\n",
        "data.columns = ['_'.join(col).strip() if isinstance(col, tuple) else col for col in data.columns.values]\n",
        "\n",
        "\n",
        "import ta\n",
        "\n",
        "data['SMA_5'] = data['Close_AAPL'].rolling(window=5).mean()\n",
        "data['SMA_10'] = data['Close_AAPL'].rolling(window=10).mean()\n",
        "data['SMA_50'] = data['Close_AAPL'].rolling(window=50).mean()\n",
        "\n",
        "rsi = ta.momentum.RSIIndicator(close=data['Close_AAPL'], window=14)\n",
        "data['RSI_14'] = rsi.rsi()\n",
        "\n",
        "bb = ta.volatility.BollingerBands(close=data['Close_AAPL'], window=20, window_dev=2)\n",
        "data['BB_upper'] = bb.bollinger_hband()\n",
        "data['BB_lower'] = bb.bollinger_lband()\n",
        "data['BB_width'] = data['BB_upper'] - data['BB_lower']\n",
        "\n",
        "atr = ta.volatility.AverageTrueRange(high=data['High_AAPL'], low=data['Low_AAPL'], close=data['Close_AAPL'], window=14)\n",
        "data['ATR_14'] = atr.average_true_range()\n",
        "\n",
        "\n",
        "data = data.dropna()"
      ],
      "metadata": {
        "id": "OqG_vIWLv1gr",
        "colab": {
          "base_uri": "https://localhost:8080/"
        },
        "outputId": "519e5cec-c39c-4419-e58f-07994c128061"
      },
      "execution_count": 18,
      "outputs": [
        {
          "output_type": "stream",
          "name": "stderr",
          "text": [
            "/tmp/ipython-input-18-3062958019.py:4: FutureWarning: YF.download() has changed argument auto_adjust default to True\n",
            "  data = yf.download(\"AAPL\", start=\"2020-01-01\", end=\"2023-01-01\")\n",
            "\r[*********************100%***********************]  1 of 1 completed\n"
          ]
        }
      ]
    },
    {
      "cell_type": "code",
      "source": [
        "print(data.columns)\n"
      ],
      "metadata": {
        "colab": {
          "base_uri": "https://localhost:8080/"
        },
        "id": "iaOxHDJCxEa2",
        "outputId": "ca55fd7d-6aa7-478f-e481-0e6e47fb00ae"
      },
      "execution_count": 20,
      "outputs": [
        {
          "output_type": "stream",
          "name": "stdout",
          "text": [
            "Index(['Close_AAPL', 'High_AAPL', 'Low_AAPL', 'Open_AAPL', 'Volume_AAPL',\n",
            "       'SMA_5', 'SMA_10', 'SMA_50', 'RSI_14', 'BB_upper', 'BB_lower',\n",
            "       'BB_width', 'ATR_14'],\n",
            "      dtype='object')\n"
          ]
        }
      ]
    },
    {
      "cell_type": "markdown",
      "source": [],
      "metadata": {
        "id": "9sDPIHe1xEOr"
      }
    },
    {
      "cell_type": "code",
      "source": [
        "#Regression Model for Next-Day Closing Price Prediction\n",
        "from sklearn.model_selection import train_test_split\n",
        "from sklearn.linear_model import LinearRegression\n",
        "from sklearn.metrics import mean_squared_error, r2_score\n",
        "\n",
        "data['Close_next'] = data['Close_AAPL'].shift(-1)\n",
        "data = data.dropna()\n",
        "\n",
        "\n",
        "features = ['Close_AAPL', 'Open_AAPL', 'High_AAPL', 'Low_AAPL', 'Volume_AAPL',\n",
        "            'SMA_5', 'SMA_10', 'SMA_50', 'RSI_14', 'BB_upper', 'BB_lower', 'BB_width', 'ATR_14']\n",
        "\n",
        "X = data[features]\n",
        "y = data['Close_next']\n",
        "\n",
        "# Train-test split 70/30\n",
        "X_train, X_test, y_train, y_test = train_test_split(X, y, test_size=0.3, shuffle=False)\n",
        "\n",
        "# Train linear regression\n",
        "lr = LinearRegression()\n",
        "lr.fit(X_train, y_train)\n",
        "\n",
        "\n",
        "y_pred = lr.predict(X_test)\n",
        "mse = mean_squared_error(y_test, y_pred)\n",
        "r2 = r2_score(y_test, y_pred)\n",
        "\n",
        "print(f\"Regression Model Performance:\\nMSE: {mse:.2f}\\nR² Score: {r2:.4f}\")\n"
      ],
      "metadata": {
        "colab": {
          "base_uri": "https://localhost:8080/"
        },
        "id": "buEAKuG9v1UV",
        "outputId": "e243178f-ee0e-4a57-c70b-83f775fe0059"
      },
      "execution_count": 23,
      "outputs": [
        {
          "output_type": "stream",
          "name": "stdout",
          "text": [
            "Regression Model Performance:\n",
            "MSE: 11.42\n",
            "R² Score: 0.9169\n"
          ]
        }
      ]
    },
    {
      "cell_type": "code",
      "source": [
        "#Classification Model for Next-Day Price Movement\n",
        "from sklearn.ensemble import RandomForestClassifier\n",
        "from sklearn.metrics import accuracy_score, confusion_matrix, classification_report\n",
        "\n",
        "\n",
        "data['Price_Up'] = (data['Close_next'] > data['Close_AAPL']).astype(int)\n",
        "\n",
        "\n",
        "data = data.dropna()\n",
        "\n",
        "X = data[features]\n",
        "y_class = data['Price_Up']\n",
        "\n",
        "# Train-test split 70/30\n",
        "X_train_c, X_test_c, y_train_c, y_test_c = train_test_split(X, y_class, test_size=0.3, shuffle=False)\n",
        "\n",
        "# Train random forest classifier\n",
        "rf = RandomForestClassifier(random_state=42, n_estimators=100)\n",
        "rf.fit(X_train_c, y_train_c)\n",
        "\n",
        "\n",
        "y_pred_c = rf.predict(X_test_c)\n",
        "\n",
        "acc = accuracy_score(y_test_c, y_pred_c)\n",
        "cm = confusion_matrix(y_test_c, y_pred_c)\n",
        "report = classification_report(y_test_c, y_pred_c)\n",
        "\n",
        "print(f\"Classification Model Performance:\\nAccuracy: {acc:.4f}\")\n",
        "print(\"Confusion Matrix:\")\n",
        "print(cm)\n",
        "print(\"Classification Report:\")\n",
        "print(report)\n",
        "\n",
        "# Feature importance\n",
        "importances = rf.feature_importances_\n",
        "feature_importance = sorted(zip(features, importances), key=lambda x: x[1], reverse=True)\n",
        "\n",
        "print(\"Feature Importances:\")\n",
        "for feature, importance in feature_importance:\n",
        "    print(f\"{feature}: {importance:.4f}\")\n"
      ],
      "metadata": {
        "colab": {
          "base_uri": "https://localhost:8080/"
        },
        "id": "qr3b6LEwxfMD",
        "outputId": "1ec2bdd8-41da-41aa-b30c-8cf85cd7f660"
      },
      "execution_count": 24,
      "outputs": [
        {
          "output_type": "stream",
          "name": "stdout",
          "text": [
            "Classification Model Performance:\n",
            "Accuracy: 0.5377\n",
            "Confusion Matrix:\n",
            "[[44 66]\n",
            " [32 70]]\n",
            "Classification Report:\n",
            "              precision    recall  f1-score   support\n",
            "\n",
            "           0       0.58      0.40      0.47       110\n",
            "           1       0.51      0.69      0.59       102\n",
            "\n",
            "    accuracy                           0.54       212\n",
            "   macro avg       0.55      0.54      0.53       212\n",
            "weighted avg       0.55      0.54      0.53       212\n",
            "\n",
            "Feature Importances:\n",
            "ATR_14: 0.0993\n",
            "BB_width: 0.0988\n",
            "Volume_AAPL: 0.0918\n",
            "RSI_14: 0.0904\n",
            "Close_AAPL: 0.0738\n",
            "Open_AAPL: 0.0723\n",
            "BB_lower: 0.0705\n",
            "High_AAPL: 0.0705\n",
            "SMA_50: 0.0699\n",
            "Low_AAPL: 0.0693\n",
            "SMA_10: 0.0655\n",
            "SMA_5: 0.0644\n",
            "BB_upper: 0.0635\n"
          ]
        }
      ]
    },
    {
      "cell_type": "code",
      "source": [
        "# Load test data\n",
        "test_data = yf.download(\"AAPL\", start=\"2023-01-01\", end=\"2024-01-01\")\n",
        "\n",
        "test_data.columns = ['_'.join(col).strip() if isinstance(col, tuple) else col for col in test_data.columns.values]\n",
        "\n",
        "test_data['SMA_5'] = test_data['Close_AAPL'].rolling(window=5).mean()\n",
        "test_data['SMA_10'] = test_data['Close_AAPL'].rolling(window=10).mean()\n",
        "test_data['SMA_50'] = test_data['Close_AAPL'].rolling(window=50).mean()\n",
        "\n",
        "rsi = ta.momentum.RSIIndicator(close=test_data['Close_AAPL'], window=14)\n",
        "test_data['RSI_14'] = rsi.rsi()\n",
        "\n",
        "bb = ta.volatility.BollingerBands(close=test_data['Close_AAPL'], window=20, window_dev=2)\n",
        "test_data['BB_upper'] = bb.bollinger_hband()\n",
        "test_data['BB_lower'] = bb.bollinger_lband()\n",
        "test_data['BB_width'] = test_data['BB_upper'] - test_data['BB_lower']\n",
        "\n",
        "atr = ta.volatility.AverageTrueRange(high=test_data['High_AAPL'], low=test_data['Low_AAPL'], close=test_data['Close_AAPL'], window=14)\n",
        "test_data['ATR_14'] = atr.average_true_range()\n",
        "\n",
        "test_data = test_data.dropna()\n"
      ],
      "metadata": {
        "colab": {
          "base_uri": "https://localhost:8080/"
        },
        "id": "rBSez8Dqx9F7",
        "outputId": "32f024e6-faa4-424c-e3b9-cdc68b7c8008"
      },
      "execution_count": 25,
      "outputs": [
        {
          "output_type": "stream",
          "name": "stderr",
          "text": [
            "/tmp/ipython-input-25-2002482886.py:2: FutureWarning: YF.download() has changed argument auto_adjust default to True\n",
            "  test_data = yf.download(\"AAPL\", start=\"2023-01-01\", end=\"2024-01-01\")\n",
            "[*********************100%***********************]  1 of 1 completed\n"
          ]
        }
      ]
    },
    {
      "cell_type": "code",
      "source": [
        "\n",
        "test_data['Close_AAPL_next'] = test_data['Close_AAPL'].shift(-1)\n",
        "test_data = test_data.dropna()\n",
        "\n",
        "X_test = test_data[['Open_AAPL', 'High_AAPL', 'Low_AAPL', 'Close_AAPL', 'Volume_AAPL',\n",
        "                    'SMA_5', 'SMA_10', 'SMA_50', 'RSI_14', 'BB_upper', 'BB_lower', 'BB_width', 'ATR_14']]\n",
        "\n",
        "y_test = test_data['Close_AAPL_next']\n"
      ],
      "metadata": {
        "id": "n41RnkaAx-_2"
      },
      "execution_count": 26,
      "outputs": []
    },
    {
      "cell_type": "code",
      "source": [
        "\n",
        "test_data['Target'] = (test_data['Close_AAPL'].shift(-1) > test_data['Close_AAPL']).astype(int)\n",
        "test_data = test_data.dropna()\n",
        "\n",
        "X_test_cls = X_test.copy()\n",
        "y_test_cls = test_data['Target']\n"
      ],
      "metadata": {
        "id": "OuXE6fMHyB5d"
      },
      "execution_count": 27,
      "outputs": []
    },
    {
      "cell_type": "code",
      "source": [
        "print(reg_model.feature_names_in_)\n",
        "\n"
      ],
      "metadata": {
        "colab": {
          "base_uri": "https://localhost:8080/"
        },
        "id": "Tc267gwQyDkU",
        "outputId": "ac1620fc-2116-4168-eada-2d3d702e7986"
      },
      "execution_count": 30,
      "outputs": [
        {
          "output_type": "stream",
          "name": "stdout",
          "text": [
            "['Close' 'SMA_5' 'SMA_10' 'SMA_50' 'RSI_14' 'BB_upper' 'BB_lower'\n",
            " 'BB_width' 'ATR_14']\n"
          ]
        }
      ]
    },
    {
      "cell_type": "code",
      "source": [
        "\n",
        "features_used = ['Close', 'SMA_5', 'SMA_10', 'SMA_50', 'RSI_14', 'BB_upper', 'BB_lower', 'BB_width', 'ATR_14']\n",
        "\n",
        "\n",
        "X_test_aligned = X_test_renamed[features_used]\n",
        "\n",
        "\n",
        "y_pred_reg = reg_model.predict(X_test_aligned)\n"
      ],
      "metadata": {
        "id": "tqign6PQynAb"
      },
      "execution_count": 54,
      "outputs": []
    },
    {
      "cell_type": "code",
      "source": [
        "print(reg_model.feature_names_in_)\n"
      ],
      "metadata": {
        "colab": {
          "base_uri": "https://localhost:8080/"
        },
        "id": "DN6X43nIzatK",
        "outputId": "bc2f63fa-4524-468f-f0ee-5df4d09c673c"
      },
      "execution_count": 37,
      "outputs": [
        {
          "output_type": "stream",
          "name": "stdout",
          "text": [
            "['Close' 'SMA_5' 'SMA_10' 'SMA_50' 'RSI_14' 'BB_upper' 'BB_lower'\n",
            " 'BB_width' 'ATR_14']\n"
          ]
        }
      ]
    },
    {
      "cell_type": "code",
      "source": [
        "print(type(clf_model))\n"
      ],
      "metadata": {
        "colab": {
          "base_uri": "https://localhost:8080/",
          "height": 141
        },
        "id": "5lsz7TxRznQK",
        "outputId": "21399d9a-2cb4-4360-e722-b713b0767f86"
      },
      "execution_count": 39,
      "outputs": [
        {
          "output_type": "error",
          "ename": "NameError",
          "evalue": "name 'clf_model' is not defined",
          "traceback": [
            "\u001b[0;31m---------------------------------------------------------------------------\u001b[0m",
            "\u001b[0;31mNameError\u001b[0m                                 Traceback (most recent call last)",
            "\u001b[0;32m/tmp/ipython-input-39-4067414777.py\u001b[0m in \u001b[0;36m<cell line: 0>\u001b[0;34m()\u001b[0m\n\u001b[0;32m----> 1\u001b[0;31m \u001b[0mprint\u001b[0m\u001b[0;34m(\u001b[0m\u001b[0mtype\u001b[0m\u001b[0;34m(\u001b[0m\u001b[0mclf_model\u001b[0m\u001b[0;34m)\u001b[0m\u001b[0;34m)\u001b[0m\u001b[0;34m\u001b[0m\u001b[0;34m\u001b[0m\u001b[0m\n\u001b[0m",
            "\u001b[0;31mNameError\u001b[0m: name 'clf_model' is not defined"
          ]
        }
      ]
    },
    {
      "cell_type": "code",
      "source": [
        "\n",
        "rename_dict = {\n",
        "    'Open_AAPL': 'Open',\n",
        "    'High_AAPL': 'High',\n",
        "    'Low_AAPL': 'Low',\n",
        "    'Close_AAPL': 'Close',\n",
        "    'Volume_AAPL': 'Volume'\n",
        "}\n",
        "\n",
        "\n",
        "X_test_renamed = X_test.rename(columns=rename_dict)\n",
        "\n",
        "X_test_reg_final = X_test_renamed[reg_model.feature_names_in_]\n",
        "\n",
        "y_pred_reg = reg_model.predict(X_test_reg_final)\n",
        "\n"
      ],
      "metadata": {
        "id": "--dkgmcHypT9"
      },
      "execution_count": 53,
      "outputs": []
    },
    {
      "cell_type": "code",
      "source": [
        "print(X_test.columns.tolist())\n"
      ],
      "metadata": {
        "colab": {
          "base_uri": "https://localhost:8080/"
        },
        "id": "t4d7N9xMz2qX",
        "outputId": "ef1c017a-5a62-4172-8bc4-70bdc92d4e04"
      },
      "execution_count": 41,
      "outputs": [
        {
          "output_type": "stream",
          "name": "stdout",
          "text": [
            "['Open_AAPL', 'High_AAPL', 'Low_AAPL', 'Close_AAPL', 'Volume_AAPL', 'SMA_5', 'SMA_10', 'SMA_50', 'RSI_14', 'BB_upper', 'BB_lower', 'BB_width', 'ATR_14']\n"
          ]
        }
      ]
    },
    {
      "cell_type": "code",
      "source": [
        "mse = mean_squared_error(y_test, y_pred_reg)\n",
        "r2 = r2_score(y_test, y_pred_reg)\n"
      ],
      "metadata": {
        "id": "YzdlgGJB0Ajz"
      },
      "execution_count": 45,
      "outputs": []
    },
    {
      "cell_type": "code",
      "source": [
        "print(globals().keys())\n"
      ],
      "metadata": {
        "colab": {
          "base_uri": "https://localhost:8080/"
        },
        "id": "kQYsRfXz0Iwi",
        "outputId": "200b80d1-25b9-4383-b14b-49c8c399846b"
      },
      "execution_count": 47,
      "outputs": [
        {
          "output_type": "stream",
          "name": "stdout",
          "text": [
            "dict_keys(['__name__', '__doc__', '__package__', '__loader__', '__spec__', '__builtin__', '__builtins__', '_ih', '_oh', '_dh', 'In', 'Out', 'get_ipython', 'exit', 'quit', '_', '__', '___', '_i', '_ii', '_iii', '_i1', '_exit_code', 'yf', 'pd', 'data', '_i2', '_i3', '_i4', 'highest_close', 'lowest_close', 'average_close', '_i5', '_i6', '_i7', '_i8', 'highest_date', 'lowest_date', 'total_days', '_i9', 'ta', 'rsi', 'bb', 'atr', '_9', '_i10', '_10', '_i11', '_11', '_i12', '_i13', 'LinearRegression', 'train_test_split', 'mean_squared_error', 'r2_score', 'features', '_i14', '_i15', 'X', 'y', 'split_index', 'X_train', 'X_test', 'y_train', 'y_test', 'reg_model', 'y_pred', '_i16', 'np', 'RandomForestRegressor', '_i17', '_i18', '_i19', '_i20', '_i21', 'lr', 'mse', 'r2', '_i22', 'RandomForestClassifier', 'accuracy_score', 'confusion_matrix', 'classification_report', 'y_class', 'X_train_c', 'X_test_c', 'y_train_c', 'y_test_c', 'rf', 'y_pred_c', 'acc', 'cm', 'report', 'importances', 'feature_importance', 'feature', 'importance', '_i23', '_i24', '_i25', 'test_data', '_i26', '_i27', 'X_test_cls', 'y_test_cls', '_i28', '_i29', 'rename_dict', 'X_test_renamed', 'X_test_cls_renamed', '_i30', '_i31', 'features_used', 'X_test_aligned', 'y_pred_reg', '_i32', '_i33', '_i34', '_i35', '_i36', '_i37', '_i38', 'X_test_reg_final', '_i39', '_i40', '_i41', '_i42', '_i43', '_i44', '_i45', '_i46', '_i47'])\n"
          ]
        }
      ]
    },
    {
      "cell_type": "code",
      "source": [
        "\n",
        "rename_dict = {\n",
        "    'Open_AAPL': 'Open',\n",
        "    'High_AAPL': 'High',\n",
        "    'Low_AAPL': 'Low',\n",
        "    'Close_AAPL': 'Close',\n",
        "    'Volume_AAPL': 'Volume'\n",
        "}\n",
        "\n",
        "\n",
        "X_test_renamed = X_test.rename(columns=rename_dict)\n",
        "\n",
        "\n",
        "X_test_reg_final = X_test_renamed[reg_model.feature_names_in_]\n",
        "\n",
        "\n",
        "y_pred_reg = reg_model.predict(X_test_reg_final)\n",
        "\n",
        "\n",
        "from sklearn.metrics import mean_squared_error, r2_score\n",
        "\n",
        "mse = mean_squared_error(y_test, y_pred_reg)\n",
        "r2 = r2_score(y_test, y_pred_reg)\n",
        "\n",
        "print(f\"Regression Model Performance:\\nMSE: {mse:.2f}\\nR² Score: {r2:.4f}\")\n"
      ],
      "metadata": {
        "colab": {
          "base_uri": "https://localhost:8080/"
        },
        "id": "0D0spVWLz7GS",
        "outputId": "5ae22715-54df-44e3-a072-79bae83f1946"
      },
      "execution_count": 52,
      "outputs": [
        {
          "output_type": "stream",
          "name": "stdout",
          "text": [
            "Regression Model Performance:\n",
            "MSE: 4.40\n",
            "R² Score: 0.9618\n"
          ]
        }
      ]
    },
    {
      "cell_type": "code",
      "source": [
        "import numpy as np\n",
        "import pandas as pd\n",
        "\n",
        "\n",
        "# Extract current closing prices from test set\n",
        "current_close = X_test_reg_final['Close'].values\n",
        "\n",
        "# Calculate predicted return\n",
        "predicted_return = (y_pred_reg - current_close) / current_close\n",
        "\n",
        "# Define threshold for entering a trade (e.g., 0.5%)\n",
        "threshold = 0.005\n",
        "\n",
        "# Generate signals\n",
        "# 1 = Buy (expected return > threshold)\n",
        "# 0 = Hold / No action\n",
        "# -1 = Sell / Short (expected return < -threshold) — optional\n",
        "\n",
        "signals = np.where(predicted_return > threshold, 1, 0)\n",
        "\n",
        "\n",
        "# Create a DataFrame to inspect signals and returns\n",
        "signals_df = pd.DataFrame({\n",
        "    'Current_Close': current_close,\n",
        "    'Predicted_Price': y_pred_reg,\n",
        "    'Predicted_Return': predicted_return,\n",
        "    'Signal': signals\n",
        "})\n",
        "\n",
        "print(signals_df.head(10))\n"
      ],
      "metadata": {
        "colab": {
          "base_uri": "https://localhost:8080/"
        },
        "id": "92J82jBl0a_F",
        "outputId": "e698aa73-7400-4454-bb68-580e47e7ea3a"
      },
      "execution_count": 51,
      "outputs": [
        {
          "output_type": "stream",
          "name": "stdout",
          "text": [
            "   Current_Close  Predicted_Price  Predicted_Return  Signal\n",
            "0     151.264175       151.046510         -0.001439       0\n",
            "1     154.091934       153.755408         -0.002184       0\n",
            "2     153.251511       153.035506         -0.001409       0\n",
            "3     155.624405       155.338562         -0.001837       0\n",
            "4     157.483246       157.199793         -0.001800       0\n",
            "5     156.049576       155.872330         -0.001136       0\n",
            "6     157.137161       156.971050         -0.001057       0\n",
            "7     158.442276       158.315290         -0.000801       0\n",
            "8     156.494507       156.514915          0.000130       0\n",
            "9     155.871613       155.967856          0.000617       0\n"
          ]
        }
      ]
    }
  ],
  "metadata": {
    "colab": {
      "provenance": [],
      "include_colab_link": true
    },
    "kernelspec": {
      "display_name": "Python 3 (ipykernel)",
      "language": "python",
      "name": "python3"
    },
    "language_info": {
      "codemirror_mode": {
        "name": "ipython",
        "version": 3
      },
      "file_extension": ".py",
      "mimetype": "text/x-python",
      "name": "python",
      "nbconvert_exporter": "python",
      "pygments_lexer": "ipython3",
      "version": "3.12.7"
    }
  },
  "nbformat": 4,
  "nbformat_minor": 0
}